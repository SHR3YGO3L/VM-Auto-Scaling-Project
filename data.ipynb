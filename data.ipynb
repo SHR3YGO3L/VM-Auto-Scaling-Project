{
 "cells": [
  {
   "cell_type": "code",
   "execution_count": 9,
   "id": "5ac14c8b",
   "metadata": {},
   "outputs": [
    {
     "name": "stderr",
     "output_type": "stream",
     "text": [
      "100%|██████████| 1250/1250 [00:24<00:00, 50.39it/s]\n"
     ]
    }
   ],
   "source": [
    "import os\n",
    "import pandas as pd\n",
    "from tqdm import tqdm  # For progress tracking\n",
    "\n",
    "def load_and_combine_data(data_dir):\n",
    "    all_dfs = []\n",
    "\n",
    "    # Sort filenames that start with a digit and end with .csv\n",
    "    csv_files = sorted(f for f in os.listdir(data_dir) if f.endswith('.csv') and f[0].isdigit()) \n",
    "\n",
    "    for idx, file in tqdm(enumerate(csv_files), total=len(csv_files)):\n",
    "        file_path = os.path.join(data_dir, file)\n",
    "        df = pd.read_csv(file_path)\n",
    "        df['vm_id'] = idx % 1250  # Ensure unique vm_id within 1250 range\n",
    "        all_dfs.append(df)\n",
    "\n",
    "    combined_df = pd.concat(all_dfs, ignore_index=True)\n",
    "    return combined_df\n",
    "\n",
    "\n",
    "\n",
    "# Usage\n",
    "full_dataset = load_and_combine_data('C:/Users/shrey-keda-nk/Desktop/dev/data')"
   ]
  },
  {
   "cell_type": "code",
   "execution_count": 10,
   "id": "727dc215",
   "metadata": {},
   "outputs": [],
   "source": [
    "def save_combined_data(df, save_path):\n",
    "    df.to_csv(save_path, index=False)\n",
    "    print(f\"\\n Data saved to: {save_path}\")"
   ]
  },
  {
   "cell_type": "code",
   "execution_count": 11,
   "id": "858a8bcd",
   "metadata": {},
   "outputs": [
    {
     "name": "stdout",
     "output_type": "stream",
     "text": [
      "\n",
      " Data saved to: C:/Users/shrey-keda-nk/Desktop/dev/data/full_dataset/dataset1.csv\n"
     ]
    }
   ],
   "source": [
    "save_path = 'C:/Users/shrey-keda-nk/Desktop/dev/data/full_dataset/dataset1.csv'\n",
    "save_combined_data(full_dataset, save_path )"
   ]
  },
  {
   "cell_type": "code",
   "execution_count": 12,
   "id": "938fae31",
   "metadata": {},
   "outputs": [
    {
     "data": {
      "text/html": [
       "<div>\n",
       "<style scoped>\n",
       "    .dataframe tbody tr th:only-of-type {\n",
       "        vertical-align: middle;\n",
       "    }\n",
       "\n",
       "    .dataframe tbody tr th {\n",
       "        vertical-align: top;\n",
       "    }\n",
       "\n",
       "    .dataframe thead th {\n",
       "        text-align: right;\n",
       "    }\n",
       "</style>\n",
       "<table border=\"1\" class=\"dataframe\">\n",
       "  <thead>\n",
       "    <tr style=\"text-align: right;\">\n",
       "      <th></th>\n",
       "      <th>Timestamp [ms];\\tCPU cores;\\tCPU capacity provisioned [MHZ];\\tCPU usage [MHZ];\\tCPU usage [%];\\tMemory capacity provisioned [KB];\\tMemory usage [KB];\\tDisk read throughput [KB/s];\\tDisk write throughput [KB/s];\\tNetwork received throughput [KB/s];\\tNetwork transmitted throughput [KB/s]</th>\n",
       "      <th>vm_id</th>\n",
       "    </tr>\n",
       "  </thead>\n",
       "  <tbody>\n",
       "    <tr>\n",
       "      <th>0</th>\n",
       "      <td>1376314846;\\t4;\\t11703.99824;\\t10912.027692426...</td>\n",
       "      <td>0</td>\n",
       "    </tr>\n",
       "    <tr>\n",
       "      <th>1</th>\n",
       "      <td>1376315146;\\t4;\\t11703.99824;\\t10890.57036232;...</td>\n",
       "      <td>0</td>\n",
       "    </tr>\n",
       "    <tr>\n",
       "      <th>2</th>\n",
       "      <td>1376315446;\\t4;\\t11703.99824;\\t10434.11443096;...</td>\n",
       "      <td>0</td>\n",
       "    </tr>\n",
       "    <tr>\n",
       "      <th>3</th>\n",
       "      <td>1376315746;\\t4;\\t11703.99824;\\t10539.450415120...</td>\n",
       "      <td>0</td>\n",
       "    </tr>\n",
       "    <tr>\n",
       "      <th>4</th>\n",
       "      <td>1376316046;\\t4;\\t11703.99824;\\t10951.041019893...</td>\n",
       "      <td>0</td>\n",
       "    </tr>\n",
       "    <tr>\n",
       "      <th>5</th>\n",
       "      <td>1376316346;\\t4;\\t11703.99824;\\t10913.978358800...</td>\n",
       "      <td>0</td>\n",
       "    </tr>\n",
       "    <tr>\n",
       "      <th>6</th>\n",
       "      <td>1376316646;\\t4;\\t11703.99824;\\t10855.4583676;\\...</td>\n",
       "      <td>0</td>\n",
       "    </tr>\n",
       "    <tr>\n",
       "      <th>7</th>\n",
       "      <td>1376316946;\\t4;\\t11703.99824;\\t10157.119805946...</td>\n",
       "      <td>0</td>\n",
       "    </tr>\n",
       "    <tr>\n",
       "      <th>8</th>\n",
       "      <td>1376317246;\\t4;\\t11703.99824;\\t10477.029091173...</td>\n",
       "      <td>0</td>\n",
       "    </tr>\n",
       "    <tr>\n",
       "      <th>9</th>\n",
       "      <td>1376317546;\\t4;\\t11703.99824;\\t11128.551659866...</td>\n",
       "      <td>0</td>\n",
       "    </tr>\n",
       "  </tbody>\n",
       "</table>\n",
       "</div>"
      ],
      "text/plain": [
       "  Timestamp [ms];\\tCPU cores;\\tCPU capacity provisioned [MHZ];\\tCPU usage [MHZ];\\tCPU usage [%];\\tMemory capacity provisioned [KB];\\tMemory usage [KB];\\tDisk read throughput [KB/s];\\tDisk write throughput [KB/s];\\tNetwork received throughput [KB/s];\\tNetwork transmitted throughput [KB/s]  \\\n",
       "0  1376314846;\\t4;\\t11703.99824;\\t10912.027692426...                                                                                                                                                                                                                                               \n",
       "1  1376315146;\\t4;\\t11703.99824;\\t10890.57036232;...                                                                                                                                                                                                                                               \n",
       "2  1376315446;\\t4;\\t11703.99824;\\t10434.11443096;...                                                                                                                                                                                                                                               \n",
       "3  1376315746;\\t4;\\t11703.99824;\\t10539.450415120...                                                                                                                                                                                                                                               \n",
       "4  1376316046;\\t4;\\t11703.99824;\\t10951.041019893...                                                                                                                                                                                                                                               \n",
       "5  1376316346;\\t4;\\t11703.99824;\\t10913.978358800...                                                                                                                                                                                                                                               \n",
       "6  1376316646;\\t4;\\t11703.99824;\\t10855.4583676;\\...                                                                                                                                                                                                                                               \n",
       "7  1376316946;\\t4;\\t11703.99824;\\t10157.119805946...                                                                                                                                                                                                                                               \n",
       "8  1376317246;\\t4;\\t11703.99824;\\t10477.029091173...                                                                                                                                                                                                                                               \n",
       "9  1376317546;\\t4;\\t11703.99824;\\t11128.551659866...                                                                                                                                                                                                                                               \n",
       "\n",
       "   vm_id  \n",
       "0      0  \n",
       "1      0  \n",
       "2      0  \n",
       "3      0  \n",
       "4      0  \n",
       "5      0  \n",
       "6      0  \n",
       "7      0  \n",
       "8      0  \n",
       "9      0  "
      ]
     },
     "execution_count": 12,
     "metadata": {},
     "output_type": "execute_result"
    }
   ],
   "source": [
    "full_dataset.head(10)"
   ]
  },
  {
   "cell_type": "code",
   "execution_count": null,
   "id": "d306e868",
   "metadata": {},
   "outputs": [],
   "source": []
  }
 ],
 "metadata": {
  "kernelspec": {
   "display_name": "Python 3",
   "language": "python",
   "name": "python3"
  },
  "language_info": {
   "codemirror_mode": {
    "name": "ipython",
    "version": 3
   },
   "file_extension": ".py",
   "mimetype": "text/x-python",
   "name": "python",
   "nbconvert_exporter": "python",
   "pygments_lexer": "ipython3",
   "version": "3.10.4"
  }
 },
 "nbformat": 4,
 "nbformat_minor": 5
}
