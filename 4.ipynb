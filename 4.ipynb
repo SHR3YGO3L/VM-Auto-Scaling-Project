{
 "cells": [
  {
   "cell_type": "code",
   "execution_count": 1,
   "id": "485ae117",
   "metadata": {},
   "outputs": [],
   "source": [
    "import csv\n",
    "import os\n",
    "import numpy as np\n",
    "from datetime import datetime\n",
    "from stable_baselines3 import PPO"
   ]
  },
  {
   "cell_type": "code",
   "execution_count": null,
   "id": "008d4b48",
   "metadata": {},
   "outputs": [],
   "source": []
  },
  {
   "cell_type": "code",
   "execution_count": 5,
   "id": "2f847176",
   "metadata": {},
   "outputs": [],
   "source": [
    "def predict_and_store_rl(time_str, model_path=\"ppo_vm_batch5.zip\", output_file=\"predictions.csv\"):\n",
    " \n",
    "\n",
    "    try:\n",
    "        time_obj = datetime.strptime(time_str, \"%H:%M:%S\")\n",
    "    except ValueError:\n",
    "        raise ValueError(\"Time must be in HH:MM:SS format (e.g., '12:34:56')\")\n",
    "    \n",
    "    # Extract features from time (normalize to [0, 1])\n",
    "    hour = time_obj.hour / 23.0\n",
    "    minute = time_obj.minute / 59.0\n",
    "    \n",
    "    # Create observation with shape (100, 2)\n",
    "    # For simplicity, repeat the [hour, minute] vector 100 times\n",
    "    # Replace this with your model's expected sequence if different (e.g., time series)\n",
    "    observation = np.array([[hour, minute]] * 100, dtype=np.float32)\n",
    "    assert observation.shape == (100, 2), f\"Observation shape {observation.shape} does not match expected (100, 2)\"\n",
    "    \n",
    "    # Load the trained PPO model\n",
    "    try:\n",
    "        model = PPO.load(model_path)\n",
    "    except Exception as e:\n",
    "        raise ValueError(f\"Failed to load PPO model from {model_path}: {str(e)}\")\n",
    "    \n",
    "    # Predict using the PPO model\n",
    "    try:\n",
    "        action, _ = model.predict(observation, deterministic=True)\n",
    "    except Exception as e:\n",
    "        raise ValueError(f\"Prediction failed: {str(e)}\")\n",
    "    \n",
    "    # Action is [predicted_total_cpu, predicted_total_mem, predicted_total_net]\n",
    "    predicted_cpu, predicted_mem, predicted_net = action\n",
    "    \n",
    "    # Ensure predictions are within reasonable bounds\n",
    "    predicted_cpu = max(0, min(predicted_cpu, 5000))  # CPU in MHz\n",
    "    predicted_mem = max(0, min(predicted_mem, 10000))  # Memory in KB\n",
    "    predicted_net = max(0, min(predicted_net, 2000))   # Network in KB/s\n",
    "    \n",
    "    # Round predictions to 2 decimal places\n",
    "    predicted_cpu = round(predicted_cpu, 2)\n",
    "    predicted_mem = round(predicted_mem, 2)\n",
    "    predicted_net = round(predicted_net, 2)\n",
    "    \n",
    "    # Calculate VMs needed (e.g., 500 MHz per VM)\n",
    "    vms_needed = int(np.ceil(predicted_cpu / 500))\n",
    "    \n",
    "    # Prepare data to store\n",
    "    prediction_data = {\n",
    "        \"Time\": time_str,\n",
    "        \"CPU_usage_MHZ\": predicted_cpu,\n",
    "        \"Memory_usage_KB\": predicted_mem,\n",
    "        \"Network_received_throughput_KB_s\": predicted_net,\n",
    "        \"VMs_needed\": vms_needed\n",
    "    }\n",
    "    \n",
    "    # Check if file exists to determine if headers are needed\n",
    "    file_exists = os.path.exists(output_file)\n",
    "    \n",
    "    # Store predictions in CSV\n",
    "    with open(output_file, mode='a', newline='') as file:\n",
    "        writer = csv.DictWriter(file, fieldnames=prediction_data.keys())\n",
    "        \n",
    "        # Write header if file is new\n",
    "        if not file_exists:\n",
    "            writer.writeheader()\n",
    "        \n",
    "        # Write prediction data\n",
    "        writer.writerow(prediction_data)\n",
    "    \n",
    "    print(f\"Stored predictions for {time_str} in {output_file}\")\n",
    "    return prediction_data"
   ]
  },
  {
   "cell_type": "code",
   "execution_count": 6,
   "id": "afa98f66",
   "metadata": {},
   "outputs": [
    {
     "ename": "ValueError",
     "evalue": "not enough values to unpack (expected 3, got 1)",
     "output_type": "error",
     "traceback": [
      "\u001b[1;31m---------------------------------------------------------------------------\u001b[0m",
      "\u001b[1;31mValueError\u001b[0m                                Traceback (most recent call last)",
      "Cell \u001b[1;32mIn[6], line 3\u001b[0m\n\u001b[0;32m      1\u001b[0m \u001b[38;5;66;03m# Test with a sample time\u001b[39;00m\n\u001b[0;32m      2\u001b[0m sample_time \u001b[38;5;241m=\u001b[39m \u001b[38;5;124m\"\u001b[39m\u001b[38;5;124m12:34:56\u001b[39m\u001b[38;5;124m\"\u001b[39m\n\u001b[1;32m----> 3\u001b[0m result \u001b[38;5;241m=\u001b[39m \u001b[43mpredict_and_store_rl\u001b[49m\u001b[43m(\u001b[49m\u001b[43msample_time\u001b[49m\u001b[43m,\u001b[49m\u001b[43m \u001b[49m\u001b[43mmodel_path\u001b[49m\u001b[38;5;241;43m=\u001b[39;49m\u001b[38;5;124;43m\"\u001b[39;49m\u001b[38;5;124;43mppo_vm_batch5.zip\u001b[39;49m\u001b[38;5;124;43m\"\u001b[39;49m\u001b[43m)\u001b[49m\n\u001b[0;32m      4\u001b[0m \u001b[38;5;28mprint\u001b[39m(\u001b[38;5;124m\"\u001b[39m\u001b[38;5;124mPredictions:\u001b[39m\u001b[38;5;124m\"\u001b[39m, result)\n",
      "Cell \u001b[1;32mIn[5], line 32\u001b[0m, in \u001b[0;36mpredict_and_store_rl\u001b[1;34m(time_str, model_path, output_file)\u001b[0m\n\u001b[0;32m     29\u001b[0m     \u001b[38;5;28;01mraise\u001b[39;00m \u001b[38;5;167;01mValueError\u001b[39;00m(\u001b[38;5;124mf\u001b[39m\u001b[38;5;124m\"\u001b[39m\u001b[38;5;124mPrediction failed: \u001b[39m\u001b[38;5;132;01m{\u001b[39;00m\u001b[38;5;28mstr\u001b[39m(e)\u001b[38;5;132;01m}\u001b[39;00m\u001b[38;5;124m\"\u001b[39m)\n\u001b[0;32m     31\u001b[0m \u001b[38;5;66;03m# Action is [predicted_total_cpu, predicted_total_mem, predicted_total_net]\u001b[39;00m\n\u001b[1;32m---> 32\u001b[0m predicted_cpu, predicted_mem, predicted_net \u001b[38;5;241m=\u001b[39m action\n\u001b[0;32m     34\u001b[0m \u001b[38;5;66;03m# Ensure predictions are within reasonable bounds\u001b[39;00m\n\u001b[0;32m     35\u001b[0m predicted_cpu \u001b[38;5;241m=\u001b[39m \u001b[38;5;28mmax\u001b[39m(\u001b[38;5;241m0\u001b[39m, \u001b[38;5;28mmin\u001b[39m(predicted_cpu, \u001b[38;5;241m5000\u001b[39m))  \u001b[38;5;66;03m# CPU in MHz\u001b[39;00m\n",
      "\u001b[1;31mValueError\u001b[0m: not enough values to unpack (expected 3, got 1)"
     ]
    }
   ],
   "source": [
    "# Test with a sample time\n",
    "sample_time = \"12:34:56\"\n",
    "result = predict_and_store_rl(sample_time, model_path=\"ppo_vm_batch5.zip\")\n",
    "print(\"Predictions:\", result)"
   ]
  },
  {
   "cell_type": "code",
   "execution_count": null,
   "id": "ab4f4074",
   "metadata": {},
   "outputs": [],
   "source": [
    "num_vms = max(vms_cpu, vms_mem, vms_net)+1\n",
    "print(f\"VMs needed: {num_vms}\")"
   ]
  },
  {
   "cell_type": "code",
   "execution_count": null,
   "id": "e031ee36",
   "metadata": {},
   "outputs": [],
   "source": [
    "input_csv = \"predictions.csv\"\n",
    "df = pd.read_csv(input_csv)\n",
    "\n",
    "# Define VM capacities\n",
    "VM_CPU_CAPACITY_MHZ = 2000\n",
    "VM_MEM_CAPACITY_KB = 4096\n",
    "VM_NET_CAPACITY_KB_s = 1024\n",
    "\n",
    "# Calculate VMs needed for each timestamp\n",
    "def calculate_vms(row):\n",
    "    vms_cpu = math.ceil(row['CPU_usage_MHZ'] / VM_CPU_CAPACITY_MHZ)\n",
    "    vms_mem = math.ceil(row['Memory_usage_KB'] / VM_MEM_CAPACITY_KB)\n",
    "    vms_net = math.ceil(row['Network_received_throughput_KB_s'] / VM_NET_CAPACITY_KB_s)\n",
    "    return max(vms_cpu, vms_mem, vms_net)\n",
    "\n",
    "# Add VMs_needed column\n",
    "df['VMs_needed'] = df.apply(calculate_vms, axis=1)\n",
    "\n",
    "# Save to new CSV with VM count\n",
    "output_csv = \"vm_allocations.csv\"\n",
    "df.to_csv(output_csv, index=False)\n",
    "print(f\"Saved VM allocations to {output_csv}\")"
   ]
  },
  {
   "cell_type": "code",
   "execution_count": null,
   "id": "8e6d9800",
   "metadata": {},
   "outputs": [],
   "source": []
  }
 ],
 "metadata": {
  "kernelspec": {
   "display_name": "Python 3",
   "language": "python",
   "name": "python3"
  },
  "language_info": {
   "codemirror_mode": {
    "name": "ipython",
    "version": 3
   },
   "file_extension": ".py",
   "mimetype": "text/x-python",
   "name": "python",
   "nbconvert_exporter": "python",
   "pygments_lexer": "ipython3",
   "version": "3.10.4"
  }
 },
 "nbformat": 4,
 "nbformat_minor": 5
}
